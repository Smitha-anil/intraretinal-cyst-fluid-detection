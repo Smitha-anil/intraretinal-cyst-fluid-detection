{
 "cells": [
  {
   "cell_type": "markdown",
   "metadata": {
    "colab_type": "text",
    "id": "mFK8BH1sftDN"
   },
   "source": [
    "# Intraretinal cyst fluid detection using Deep Learning"
   ]
  },
  {
   "cell_type": "markdown",
   "metadata": {
    "colab_type": "text",
    "id": "3eNnOFkiftDR"
   },
   "source": [
    "*Abstract— This work aims to do an experimental analysis of recent state of the art deep learning algorithms to find three retinal fluid types, with annotated images provided by two clinical centers, which were acquired with the three most common [OCT] https://en.wikipedia.org/wiki/Optical_coherence_tomography) device vendors from\n",
    "patients with two different retinal diseases*.  \n",
    "\n",
    "The rest of the project can be found on the [intraretinal-cyst-fluid-detection](project https://github.com/gabrielraya/intraretinal-cyst-fluid-detection) repository on Github.\n"
   ]
  },
  {
   "cell_type": "markdown",
   "metadata": {
    "colab_type": "text",
    "id": "d4cVMWmvftDV"
   },
   "source": [
    "## Overview"
   ]
  },
  {
   "cell_type": "markdown",
   "metadata": {
    "colab_type": "text",
    "collapsed": true,
    "id": "xASO6qf9ftDY"
   },
   "source": [
    "This is a introductory notebook to undertand the problem of cyst fluid detection, for this we are going to implement and apply some basic image processing techniques to first get familiar with the medical imaging data this project uses.\n",
    "\n",
    "\n",
    "We will implement the following techniques:\n",
    "1. conversion of raw mammography data into a gray-scale / color image\n",
    "2. Split the data\n",
    "3. Batch data creation"
   ]
  },
  {
   "cell_type": "markdown",
   "metadata": {
    "colab_type": "text",
    "collapsed": true,
    "id": "xVS6pB5VftDd"
   },
   "source": [
    "## Libraries"
   ]
  },
  {
   "cell_type": "markdown",
   "metadata": {
    "colab_type": "text",
    "id": "FL37ZckVftD2"
   },
   "source": [
    "First, we import the basic libraries necessary to develop this assignment. Feel free to include more libraries if needed.\n"
   ]
  },
  {
   "cell_type": "code",
   "execution_count": 2,
   "metadata": {
    "colab": {
     "base_uri": "https://localhost:8080/",
     "height": 185
    },
    "colab_type": "code",
    "executionInfo": {
     "elapsed": 13602,
     "status": "ok",
     "timestamp": 1557447422932,
     "user": {
      "displayName": "Gabriel Raya Rodríguez",
      "photoUrl": "",
      "userId": "00635319072541362903"
     },
     "user_tz": -120
    },
    "id": "xiHiUh9aftDg",
    "outputId": "1d749a9a-b406-40d6-e49b-11b36688b4e8"
   },
   "outputs": [
    {
     "name": "stdout",
     "output_type": "stream",
     "text": [
      "Collecting SimpleITK\n",
      "\u001b[?25l  Downloading https://files.pythonhosted.org/packages/45/ee/8ddd251cf447e1fc131622e925d538c2542780195ae75e26c122587630d1/SimpleITK-1.2.0-cp36-cp36m-manylinux1_x86_64.whl (42.5MB)\n",
      "\u001b[K     |████████████████████████████████| 42.5MB 1.5MB/s \n",
      "\u001b[?25hInstalling collected packages: SimpleITK\n",
      "Successfully installed SimpleITK-1.2.0\n",
      "Collecting pydicom\n",
      "\u001b[?25l  Downloading https://files.pythonhosted.org/packages/43/88/d3c419ab2e753e7651510882a53219373e78fb55294cb247dffd3934ea55/pydicom-1.2.2-py2.py3-none-any.whl (7.0MB)\n",
      "\u001b[K     |████████████████████████████████| 7.0MB 8.3MB/s \n",
      "\u001b[?25hInstalling collected packages: pydicom\n",
      "Successfully installed pydicom-1.2.2\n"
     ]
    }
   ],
   "source": [
    "# First make sure you have install these two libraries:\n",
    "!pip install SimpleITK\n",
    "!pip install -U pydicom"
   ]
  },
  {
   "cell_type": "code",
   "execution_count": 0,
   "metadata": {
    "colab": {},
    "colab_type": "code",
    "id": "1DsDruLYftD7"
   },
   "outputs": [],
   "source": [
    "import requests\n",
    "import zipfile\n",
    "from tqdm import tnrange, tqdm_notebook\n",
    "import os\n",
    "import SimpleITK as sitk\n",
    "import matplotlib\n",
    "import matplotlib.pyplot as plt\n",
    "from matplotlib import cm\n",
    "%matplotlib inline \n",
    "import numpy as np\n",
    "from PIL import Image\n",
    "import pydicom as dicom\n",
    "from IPython import display\n",
    "import time\n",
    "from mpl_toolkits.mplot3d import Axes3D\n",
    "import copy\n",
    "matplotlib.rcParams['figure.figsize'] = [8, 6]\n",
    "import scipy.signal"
   ]
  },
  {
   "cell_type": "markdown",
   "metadata": {
    "colab_type": "text",
    "id": "i11MbA8fftEG"
   },
   "source": [
    "## Data"
   ]
  },
  {
   "cell_type": "markdown",
   "metadata": {
    "colab_type": "text",
    "id": "YBdZGUO_ftEI"
   },
   "source": [
    "This notebook has been prepared to work directly from Colab but you can also work from any other resource.  The next cells import the data from the drive team folder, but you can also directly download the zip file from  [drive](https://drive.google.com/open?id=1Y2XKig36mh2WuJ-1ArJWoF-tlgKp8UnT).  To do so, you need to give Colab acces to your drive account."
   ]
  },
  {
   "cell_type": "code",
   "execution_count": 4,
   "metadata": {
    "colab": {
     "base_uri": "https://localhost:8080/",
     "height": 121
    },
    "colab_type": "code",
    "executionInfo": {
     "elapsed": 40319,
     "status": "ok",
     "timestamp": 1557447455168,
     "user": {
      "displayName": "Gabriel Raya Rodríguez",
      "photoUrl": "",
      "userId": "00635319072541362903"
     },
     "user_tz": -120
    },
    "id": "tui6rUKjftEL",
    "outputId": "4239ac68-f4f9-4f58-d5cb-5a5411a15792"
   },
   "outputs": [
    {
     "name": "stdout",
     "output_type": "stream",
     "text": [
      "Go to this URL in a browser: https://accounts.google.com/o/oauth2/auth?client_id=947318989803-6bn6qk8qdgf4n4g3pfee6491hc0brc4i.apps.googleusercontent.com&redirect_uri=urn%3Aietf%3Awg%3Aoauth%3A2.0%3Aoob&scope=email%20https%3A%2F%2Fwww.googleapis.com%2Fauth%2Fdocs.test%20https%3A%2F%2Fwww.googleapis.com%2Fauth%2Fdrive%20https%3A%2F%2Fwww.googleapis.com%2Fauth%2Fdrive.photos.readonly%20https%3A%2F%2Fwww.googleapis.com%2Fauth%2Fpeopleapi.readonly&response_type=code\n",
      "\n",
      "Enter your authorization code:\n",
      "··········\n",
      "Mounted at /content/gdrive\n"
     ]
    }
   ],
   "source": [
    "# Only run this code when using Colab\n",
    "from google.colab import drive\n",
    "drive.mount('/content/gdrive')"
   ]
  },
  {
   "cell_type": "markdown",
   "metadata": {
    "colab_type": "text",
    "id": "5NOnLbI4uX_V"
   },
   "source": [
    "Define the path where data is stored"
   ]
  },
  {
   "cell_type": "code",
   "execution_count": 0,
   "metadata": {
    "colab": {},
    "colab_type": "code",
    "id": "YK72s56tftEj"
   },
   "outputs": [],
   "source": [
    "# DATA_FOLDER = './cyst_segmentation_ISMI_training_set/'                                  # Local System\n",
    "DATA_FOLDER = 'gdrive/Team Drives/ISMI-FinalProject/cyst_segmentation_ISMI_training_set/' # Colab"
   ]
  },
  {
   "cell_type": "code",
   "execution_count": 6,
   "metadata": {
    "colab": {
     "base_uri": "https://localhost:8080/",
     "height": 34
    },
    "colab_type": "code",
    "executionInfo": {
     "elapsed": 10645,
     "status": "ok",
     "timestamp": 1557435088829,
     "user": {
      "displayName": "Gabriel Raya Rodríguez",
      "photoUrl": "",
      "userId": "00635319072541362903"
     },
     "user_tz": -120
    },
    "id": "5JOI5EsfftFE",
    "outputId": "c5e4899d-bd90-499b-a490-6912d8d93343"
   },
   "outputs": [
    {
     "name": "stdout",
     "output_type": "stream",
     "text": [
      "annotations  data_usage_policy.pdf  images\n"
     ]
    }
   ],
   "source": [
    "!ls 'gdrive/Team Drives/ISMI-FinalProject/cyst_segmentation_ISMI_training_set/'\n",
    "#'./cyst_segmentation_ISMI_training_set'"
   ]
  },
  {
   "cell_type": "markdown",
   "metadata": {
    "colab_type": "text",
    "id": "yLpVoPrOftFl"
   },
   "source": [
    "Check that the data folder contains the following structure:\n",
    "````\n",
    "cyst_segmentation_ISMI_training_set\n",
    "  |-images\n",
    "    |-pat001_im001.mdh\n",
    "    |-pat001_im001.raw\n",
    "    |-...\n",
    "  |-annotations\n",
    "    |-pat001_im001.mhd\n",
    "    |-pat001_im001.zraw\n",
    "    |-...\n",
    "````"
   ]
  },
  {
   "cell_type": "markdown",
   "metadata": {
    "colab_type": "text",
    "id": "zbzMbTLqftFo"
   },
   "source": [
    "##  Data Inspection"
   ]
  },
  {
   "cell_type": "markdown",
   "metadata": {
    "colab_type": "text",
    "id": "vh1RSkkFftFr"
   },
   "source": [
    "This first part consists in reconstructing the given images from the raw data acquired with the tommoography machine. There are several steps that have to be applied to reconstruct a gray-scale / color image that can actually be read by radiologists with the aim of detecting these three type of fluids in the retina."
   ]
  },
  {
   "cell_type": "markdown",
   "metadata": {
    "colab_type": "text",
    "id": "KEwfli0IIt2n"
   },
   "source": [
    "##1. Image transformation of eye tomography"
   ]
  },
  {
   "cell_type": "markdown",
   "metadata": {
    "colab_type": "text",
    "collapsed": true,
    "id": "IfDaGaQ8ftFu"
   },
   "source": [
    "### Read image"
   ]
  },
  {
   "cell_type": "markdown",
   "metadata": {
    "colab_type": "text",
    "id": "CR7Cjb2AftFw"
   },
   "source": [
    "In your  data folder, you can find a file containing raw mammography data. Our goal is to do a good job at deriving a gray-level/color image from raw data.\n",
    "The files are in ITK format, with extension ````.mhd````, and can be opened using the library ````SimpleITK````. You can find documentation on ````SimpleITK```` at this link: http://www.simpleitk.org/SimpleITK/help/documentation.html.\n",
    "In the next cell, we provide the function used to read the raw data and the gray-level/color images.\n",
    "Please refere to [SimpleITK conventions](http://insightsoftwareconsortium.github.io/SimpleITK-Notebooks/Python_html/03_Image_Details.html) to understand the images atttributes/conventions used by SimpleITK."
   ]
  },
  {
   "cell_type": "code",
   "execution_count": 7,
   "metadata": {
    "colab": {
     "base_uri": "https://localhost:8080/",
     "height": 118
    },
    "colab_type": "code",
    "executionInfo": {
     "elapsed": 910,
     "status": "ok",
     "timestamp": 1557448199864,
     "user": {
      "displayName": "Gabriel Raya Rodríguez",
      "photoUrl": "",
      "userId": "00635319072541362903"
     },
     "user_tz": -120
    },
    "id": "RuX6MhqVftFy",
    "outputId": "592f3c70-d40c-4355-e443-d98edbe0fba5"
   },
   "outputs": [
    {
     "name": "stdout",
     "output_type": "stream",
     "text": [
      "image size: (508, 496, 18)\n",
      "image origin: (1.3379, 0.00585, 2.70800000219485)\n",
      "image spacing: (0.011500000022351742, 0.0038999998942017555, 0.24135294556617737)\n",
      "image width: 508\n",
      "image height: 496\n",
      "image depth: 18\n"
     ]
    }
   ],
   "source": [
    "# raw data in ITK format\n",
    "raw_img_filename = os.path.join(DATA_FOLDER,'images/pat001_im001.mhd')\n",
    "out_img_filename = os.path.join(DATA_FOLDER,'annotations/pat001_im001.mhd')\n",
    "\n",
    "# read ITK files using SimpleITK\n",
    "raw_img = sitk.ReadImage(raw_img_filename)\n",
    "out_img = sitk.ReadImage(out_img_filename)\n",
    "\n",
    "# print image information\n",
    "print('image size: {}'.format(raw_img.GetSize()))\n",
    "print('image origin: {}'.format(raw_img.GetOrigin()))\n",
    "print('image spacing: {}'.format(raw_img.GetSpacing()))\n",
    "print('image width: {}'.format(raw_img.GetWidth()))\n",
    "print('image height: {}'.format(raw_img.GetHeight()))\n",
    "print('image depth: {}'.format(raw_img.GetDepth()))"
   ]
  },
  {
   "cell_type": "markdown",
   "metadata": {
    "colab_type": "text",
    "id": "Kc4PaYc_ftGC"
   },
   "source": [
    "*the resolution of the image is 508x496  px, which give a total of <b>251968</b> pixeles. \n",
    "This image conttains 18 slides we can use to detect the cyst*"
   ]
  },
  {
   "cell_type": "markdown",
   "metadata": {
    "colab_type": "text",
    "collapsed": true,
    "id": "OulvXX_CftGF"
   },
   "source": [
    "### Convert ITK image to Numpy array"
   ]
  },
  {
   "cell_type": "markdown",
   "metadata": {
    "colab_type": "text",
    "id": "NFRBRyTgftGH"
   },
   "source": [
    "In order to easily manipulate data, it is convenient to convert it into a numpy format, which can be transformed using the numpy library, and can easily be visualized using the ````pylab/matplotlib```` library.\n",
    "Please check the documentation in http://insightsoftwareconsortium.github.io/SimpleITK-Notebooks/Python_html/01_Image_Basics.html to find the proper function to transform the SimpleITK image to numpy. Write your code below:\n",
    "* ````out_np````: should contain the numpy array from ````out_img````\n",
    "* ````raw_np````: should contain the numpy array from ````raw_img````\n",
    "\n",
    "Note: If you are not familiar with Numpy, you can check briefly this tutorial: http://cs231n.github.io/python-numpy-tutorial/"
   ]
  },
  {
   "cell_type": "code",
   "execution_count": 0,
   "metadata": {
    "colab": {},
    "colab_type": "code",
    "id": "DN-nCn44ftGM"
   },
   "outputs": [],
   "source": [
    "# convert the ITK image into numpy format\n",
    "out_np = sitk.GetArrayFromImage(out_img)\n",
    "raw_np = sitk.GetArrayFromImage(raw_img)"
   ]
  },
  {
   "cell_type": "code",
   "execution_count": 0,
   "metadata": {
    "colab": {},
    "colab_type": "code",
    "id": "NrpbcAwPftGV"
   },
   "outputs": [],
   "source": [
    "matplotlib.rcParams['figure.figsize'] = [8, 6]"
   ]
  },
  {
   "cell_type": "code",
   "execution_count": 10,
   "metadata": {
    "colab": {
     "base_uri": "https://localhost:8080/",
     "height": 34
    },
    "colab_type": "code",
    "executionInfo": {
     "elapsed": 959,
     "status": "ok",
     "timestamp": 1557448205506,
     "user": {
      "displayName": "Gabriel Raya Rodríguez",
      "photoUrl": "",
      "userId": "00635319072541362903"
     },
     "user_tz": -120
    },
    "id": "vInkCkAZftGd",
    "outputId": "1f5b450b-8cdc-4dcd-9904-9df8a5b956e4"
   },
   "outputs": [
    {
     "data": {
      "text/plain": [
       "(496, 508)"
      ]
     },
     "execution_count": 10,
     "metadata": {
      "tags": []
     },
     "output_type": "execute_result"
    }
   ],
   "source": [
    "# check shape of 1st array \n",
    "out_np[0].shape"
   ]
  },
  {
   "cell_type": "code",
   "execution_count": 11,
   "metadata": {
    "colab": {
     "base_uri": "https://localhost:8080/",
     "height": 262
    },
    "colab_type": "code",
    "executionInfo": {
     "elapsed": 2231,
     "status": "ok",
     "timestamp": 1557448207608,
     "user": {
      "displayName": "Gabriel Raya Rodríguez",
      "photoUrl": "",
      "userId": "00635319072541362903"
     },
     "user_tz": -120
    },
    "id": "bxQkHj11ftGo",
    "outputId": "d0adf3a3-373f-4d5b-9c18-96bdf3b5e0ea"
   },
   "outputs": [
    {
     "data": {
      "image/png": "[encoded data removed]",
      "text/plain": [
       "<Figure size 576x432 with 2 Axes>"
      ]
     },
     "metadata": {
      "tags": []
     },
     "output_type": "display_data"
    }
   ],
   "source": [
    "assert(out_np is not None),\"out_np cannot be None\"\n",
    "assert(raw_np is not None),\"raw_np cannot be None\"\n",
    "\n",
    "# visualize the two numpy arrays\n",
    "plt.subplot(1,2,1)\n",
    "plt.imshow(raw_np[0], cmap='gray')\n",
    "plt.title('raw data')\n",
    "plt.subplot(1,2,2)\n",
    "plt.imshow(out_np[11], cmap='gray')\n",
    "plt.title('gray-level data (target)')\n",
    "plt.show()"
   ]
  },
  {
   "cell_type": "code",
   "execution_count": 12,
   "metadata": {
    "colab": {
     "base_uri": "https://localhost:8080/",
     "height": 262
    },
    "colab_type": "code",
    "executionInfo": {
     "elapsed": 2443,
     "status": "ok",
     "timestamp": 1557448224554,
     "user": {
      "displayName": "Gabriel Raya Rodríguez",
      "photoUrl": "",
      "userId": "00635319072541362903"
     },
     "user_tz": -120
    },
    "id": "FD44-yWTftG0",
    "outputId": "72c3d13b-f1ef-4853-b30f-8f1931eb545c"
   },
   "outputs": [
    {
     "data": {
      "image/png": "[encoded data removed]",
      "text/plain": [
       "<Figure size 576x432 with 2 Axes>"
      ]
     },
     "metadata": {
      "tags": []
     },
     "output_type": "display_data"
    }
   ],
   "source": [
    "assert(out_np is not None),\"out_np cannot be None\"\n",
    "assert(raw_np is not None),\"raw_np cannot be None\"\n",
    "\n",
    "# visualize the two numpy arrays\n",
    "plt.subplot(1,2,1)\n",
    "plt.imshow(raw_np[10])\n",
    "plt.title('raw data')\n",
    "plt.subplot(1,2,2)\n",
    "plt.imshow(out_np[10])\n",
    "plt.title('color-level data (target)')\n",
    "plt.show()"
   ]
  },
  {
   "cell_type": "markdown",
   "metadata": {
    "colab_type": "text",
    "collapsed": true,
    "id": "unopz9kGftHW"
   },
   "source": [
    "### Read the comple RETOUCH dataset"
   ]
  },
  {
   "cell_type": "code",
   "execution_count": 0,
   "metadata": {
    "colab": {},
    "colab_type": "code",
    "id": "_YccnC3RftHd"
   },
   "outputs": [],
   "source": [
    "def get_file_list(path, ext=''):\n",
    "    return sorted([os.path.join(path, f) for f in os.listdir(path) if f.endswith(ext)])\n",
    "\n",
    "def load_img(path):\n",
    "    return sitk.GetArrayFromImage(sitk.ReadImage(path))"
   ]
  },
  {
   "cell_type": "markdown",
   "metadata": {
    "colab_type": "text",
    "id": "VWqrEbsLn92A"
   },
   "source": [
    "**This process might take some time** : Please, be patient. This is reading the 112 volumentric with their n-corresponding B scans."
   ]
  },
  {
   "cell_type": "code",
   "execution_count": 0,
   "metadata": {
    "colab": {},
    "colab_type": "code",
    "id": "7i3-1-z_ftHz"
   },
   "outputs": [],
   "source": [
    "# get path names list of raw data in ITK format\n",
    "x_img_files = get_file_list(os.path.join(DATA_FOLDER,'images/'), 'mhd')\n",
    "y_img_files = get_file_list(os.path.join(DATA_FOLDER,'annotations/'), 'mhd')\n",
    "\n",
    "\n",
    "# read ITK files using SimpleITK and conver then into a list of numpy arrays\n",
    "X = [load_img(f) for f in x_img_files]\n",
    "Y = [load_img(f) for f in y_img_files]"
   ]
  },
  {
   "cell_type": "markdown",
   "metadata": {
    "colab_type": "text",
    "id": "ZRBBIn_BftID"
   },
   "source": [
    "Let's verify the number of X sample files is the same as the number of annotated images Ys."
   ]
  },
  {
   "cell_type": "code",
   "execution_count": 18,
   "metadata": {
    "colab": {
     "base_uri": "https://localhost:8080/",
     "height": 50
    },
    "colab_type": "code",
    "executionInfo": {
     "elapsed": 825,
     "status": "ok",
     "timestamp": 1557448505540,
     "user": {
      "displayName": "Gabriel Raya Rodríguez",
      "photoUrl": "",
      "userId": "00635319072541362903"
     },
     "user_tz": -120
    },
    "id": "3s-ifbY5ftIL",
    "outputId": "ed115224-75fe-4fe9-9051-47889de1266f"
   },
   "outputs": [
    {
     "name": "stdout",
     "output_type": "stream",
     "text": [
      "Number of list files X:122 , Y:122\n",
      "Number of samples X:122 , Y:122\n"
     ]
    }
   ],
   "source": [
    "print(\"Number of list files X:{} , Y:{}\".format(len(x_img_files),len(y_img_files)))\n",
    "print(\"Number of samples X:{} , Y:{}\".format(len(X),len(Y)))"
   ]
  },
  {
   "cell_type": "code",
   "execution_count": 19,
   "metadata": {
    "colab": {
     "base_uri": "https://localhost:8080/",
     "height": 50
    },
    "colab_type": "code",
    "executionInfo": {
     "elapsed": 691,
     "status": "ok",
     "timestamp": 1557448511748,
     "user": {
      "displayName": "Gabriel Raya Rodríguez",
      "photoUrl": "",
      "userId": "00635319072541362903"
     },
     "user_tz": -120
    },
    "id": "6wS4KYGdftIW",
    "outputId": "686c605f-233f-424a-a3c4-6f61b0972ed8"
   },
   "outputs": [
    {
     "name": "stdout",
     "output_type": "stream",
     "text": [
      "gdrive/Team Drives/ISMI-FinalProject/cyst_segmentation_ISMI_training_set/images/pat001_im001.mhd\n",
      "(18, 496, 508)\n"
     ]
    }
   ],
   "source": [
    "# Test\n",
    "print(x_img_files[0])\n",
    "raw_np =  sitk.GetArrayFromImage(sitk.ReadImage(x_img_files[0]))\n",
    "print(raw_np.shape)"
   ]
  },
  {
   "cell_type": "code",
   "execution_count": 30,
   "metadata": {
    "colab": {
     "base_uri": "https://localhost:8080/",
     "height": 34
    },
    "colab_type": "code",
    "executionInfo": {
     "elapsed": 895,
     "status": "ok",
     "timestamp": 1557449173612,
     "user": {
      "displayName": "Gabriel Raya Rodríguez",
      "photoUrl": "",
      "userId": "00635319072541362903"
     },
     "user_tz": -120
    },
    "id": "CruHmQjbMA5d",
    "outputId": "2ea6b1bc-7f28-4804-ea1d-f1bef0e41286"
   },
   "outputs": [
    {
     "data": {
      "text/plain": [
       "(18, 496, 508)"
      ]
     },
     "execution_count": 30,
     "metadata": {
      "tags": []
     },
     "output_type": "execute_result"
    }
   ],
   "source": [
    "X[0].shape"
   ]
  },
  {
   "cell_type": "code",
   "execution_count": 0,
   "metadata": {
    "colab": {},
    "colab_type": "code",
    "id": "yZLX6Sl_Nglj"
   },
   "outputs": [],
   "source": [
    "b_scans = np.zeros(len(X))\n",
    "w,h =np.zeros(len(X)), np.zeros(len(X))"
   ]
  },
  {
   "cell_type": "code",
   "execution_count": 0,
   "metadata": {
    "colab": {},
    "colab_type": "code",
    "id": "oDHlniglKmSB"
   },
   "outputs": [],
   "source": [
    "# Plot histogram\n",
    "b_scans = np.zeros(len(X))\n",
    "w,h =np.zeros(len(X)), np.zeros(len(X))\n",
    "for i in range(len(X)):\n",
    "    b_scans[i],w[i],h[i]=(X[i].shape)"
   ]
  },
  {
   "cell_type": "code",
   "execution_count": 49,
   "metadata": {
    "colab": {
     "base_uri": "https://localhost:8080/",
     "height": 195
    },
    "colab_type": "code",
    "executionInfo": {
     "elapsed": 554,
     "status": "ok",
     "timestamp": 1557449966233,
     "user": {
      "displayName": "Gabriel Raya Rodríguez",
      "photoUrl": "",
      "userId": "00635319072541362903"
     },
     "user_tz": -120
    },
    "id": "INz8IPEDPqKy",
    "outputId": "82c5e2cc-e5d5-4e80-8031-928d05a5bc25"
   },
   "outputs": [
    {
     "data": {
      "text/html": [
       "<div>\n",
       "<style scoped>\n",
       "    .dataframe tbody tr th:only-of-type {\n",
       "        vertical-align: middle;\n",
       "    }\n",
       "\n",
       "    .dataframe tbody tr th {\n",
       "        vertical-align: top;\n",
       "    }\n",
       "\n",
       "    .dataframe thead th {\n",
       "        text-align: right;\n",
       "    }\n",
       "</style>\n",
       "<table border=\"1\" class=\"dataframe\">\n",
       "  <thead>\n",
       "    <tr style=\"text-align: right;\">\n",
       "      <th></th>\n",
       "      <th>scans</th>\n",
       "      <th>w</th>\n",
       "      <th>h</th>\n",
       "    </tr>\n",
       "  </thead>\n",
       "  <tbody>\n",
       "    <tr>\n",
       "      <th>0</th>\n",
       "      <td>18.0</td>\n",
       "      <td>496.0</td>\n",
       "      <td>508.0</td>\n",
       "    </tr>\n",
       "    <tr>\n",
       "      <th>1</th>\n",
       "      <td>36.0</td>\n",
       "      <td>496.0</td>\n",
       "      <td>512.0</td>\n",
       "    </tr>\n",
       "    <tr>\n",
       "      <th>2</th>\n",
       "      <td>36.0</td>\n",
       "      <td>496.0</td>\n",
       "      <td>508.0</td>\n",
       "    </tr>\n",
       "    <tr>\n",
       "      <th>3</th>\n",
       "      <td>36.0</td>\n",
       "      <td>496.0</td>\n",
       "      <td>516.0</td>\n",
       "    </tr>\n",
       "    <tr>\n",
       "      <th>4</th>\n",
       "      <td>36.0</td>\n",
       "      <td>496.0</td>\n",
       "      <td>530.0</td>\n",
       "    </tr>\n",
       "  </tbody>\n",
       "</table>\n",
       "</div>"
      ],
      "text/plain": [
       "   scans      w      h\n",
       "0   18.0  496.0  508.0\n",
       "1   36.0  496.0  512.0\n",
       "2   36.0  496.0  508.0\n",
       "3   36.0  496.0  516.0\n",
       "4   36.0  496.0  530.0"
      ]
     },
     "execution_count": 49,
     "metadata": {
      "tags": []
     },
     "output_type": "execute_result"
    }
   ],
   "source": [
    "import pandas as pd\n",
    "df = pd.DataFrame({'scans':b_scans,'h':h, 'w':w,})\n",
    "df.head()"
   ]
  },
  {
   "cell_type": "code",
   "execution_count": 50,
   "metadata": {
    "colab": {
     "base_uri": "https://localhost:8080/",
     "height": 284
    },
    "colab_type": "code",
    "executionInfo": {
     "elapsed": 599,
     "status": "ok",
     "timestamp": 1557450003751,
     "user": {
      "displayName": "Gabriel Raya Rodríguez",
      "photoUrl": "",
      "userId": "00635319072541362903"
     },
     "user_tz": -120
    },
    "id": "Pbe9TnUMQFhz",
    "outputId": "27f52e5a-0220-4672-aac9-cfb1b23dcd9d"
   },
   "outputs": [
    {
     "data": {
      "text/html": [
       "<div>\n",
       "<style scoped>\n",
       "    .dataframe tbody tr th:only-of-type {\n",
       "        vertical-align: middle;\n",
       "    }\n",
       "\n",
       "    .dataframe tbody tr th {\n",
       "        vertical-align: top;\n",
       "    }\n",
       "\n",
       "    .dataframe thead th {\n",
       "        text-align: right;\n",
       "    }\n",
       "</style>\n",
       "<table border=\"1\" class=\"dataframe\">\n",
       "  <thead>\n",
       "    <tr style=\"text-align: right;\">\n",
       "      <th></th>\n",
       "      <th>scans</th>\n",
       "      <th>w</th>\n",
       "      <th>h</th>\n",
       "    </tr>\n",
       "  </thead>\n",
       "  <tbody>\n",
       "    <tr>\n",
       "      <th>count</th>\n",
       "      <td>122.000000</td>\n",
       "      <td>122.0</td>\n",
       "      <td>122.000000</td>\n",
       "    </tr>\n",
       "    <tr>\n",
       "      <th>mean</th>\n",
       "      <td>30.090164</td>\n",
       "      <td>496.0</td>\n",
       "      <td>520.827869</td>\n",
       "    </tr>\n",
       "    <tr>\n",
       "      <th>std</th>\n",
       "      <td>8.806463</td>\n",
       "      <td>0.0</td>\n",
       "      <td>58.310042</td>\n",
       "    </tr>\n",
       "    <tr>\n",
       "      <th>min</th>\n",
       "      <td>14.000000</td>\n",
       "      <td>496.0</td>\n",
       "      <td>463.000000</td>\n",
       "    </tr>\n",
       "    <tr>\n",
       "      <th>25%</th>\n",
       "      <td>18.000000</td>\n",
       "      <td>496.0</td>\n",
       "      <td>499.000000</td>\n",
       "    </tr>\n",
       "    <tr>\n",
       "      <th>50%</th>\n",
       "      <td>36.000000</td>\n",
       "      <td>496.0</td>\n",
       "      <td>508.000000</td>\n",
       "    </tr>\n",
       "    <tr>\n",
       "      <th>75%</th>\n",
       "      <td>36.000000</td>\n",
       "      <td>496.0</td>\n",
       "      <td>516.000000</td>\n",
       "    </tr>\n",
       "    <tr>\n",
       "      <th>max</th>\n",
       "      <td>48.000000</td>\n",
       "      <td>496.0</td>\n",
       "      <td>788.000000</td>\n",
       "    </tr>\n",
       "  </tbody>\n",
       "</table>\n",
       "</div>"
      ],
      "text/plain": [
       "            scans      w           h\n",
       "count  122.000000  122.0  122.000000\n",
       "mean    30.090164  496.0  520.827869\n",
       "std      8.806463    0.0   58.310042\n",
       "min     14.000000  496.0  463.000000\n",
       "25%     18.000000  496.0  499.000000\n",
       "50%     36.000000  496.0  508.000000\n",
       "75%     36.000000  496.0  516.000000\n",
       "max     48.000000  496.0  788.000000"
      ]
     },
     "execution_count": 50,
     "metadata": {
      "tags": []
     },
     "output_type": "execute_result"
    }
   ],
   "source": [
    "df.describe()"
   ]
  },
  {
   "cell_type": "markdown",
   "metadata": {
    "colab_type": "text",
    "id": "P0PI-9waVv3N"
   },
   "source": [
    "### Show a histogram of the b-scans distribution"
   ]
  },
  {
   "cell_type": "code",
   "execution_count": 82,
   "metadata": {
    "colab": {
     "base_uri": "https://localhost:8080/",
     "height": 394
    },
    "colab_type": "code",
    "executionInfo": {
     "elapsed": 828,
     "status": "ok",
     "timestamp": 1557451424923,
     "user": {
      "displayName": "Gabriel Raya Rodríguez",
      "photoUrl": "",
      "userId": "00635319072541362903"
     },
     "user_tz": -120
    },
    "id": "4dWrZfVdVgbs",
    "outputId": "428377b4-5e7e-4674-f32a-f99b9004a8f2"
   },
   "outputs": [
    {
     "data": {
      "text/plain": [
       "<matplotlib.axes._subplots.AxesSubplot at 0x7f738c2c1748>"
      ]
     },
     "execution_count": 82,
     "metadata": {
      "tags": []
     },
     "output_type": "execute_result"
    },
    {
     "data": {
      "image/png": "[encoded data removed]",
      "text/plain": [
       "<Figure size 576x432 with 1 Axes>"
      ]
     },
     "metadata": {
      "tags": []
     },
     "output_type": "display_data"
    }
   ],
   "source": [
    "df.scans.hist(alpha=0.4)"
   ]
  },
  {
   "cell_type": "code",
   "execution_count": 71,
   "metadata": {
    "colab": {
     "base_uri": "https://localhost:8080/",
     "height": 185
    },
    "colab_type": "code",
    "executionInfo": {
     "elapsed": 557,
     "status": "ok",
     "timestamp": 1557450993856,
     "user": {
      "displayName": "Gabriel Raya Rodríguez",
      "photoUrl": "",
      "userId": "00635319072541362903"
     },
     "user_tz": -120
    },
    "id": "BsouD2ptTA0t",
    "outputId": "6821180a-32f1-4131-aab7-989e8f6ea866"
   },
   "outputs": [
    {
     "data": {
      "text/plain": [
       "Counter({14.0: 1,\n",
       "         18.0: 36,\n",
       "         22.0: 1,\n",
       "         24.0: 5,\n",
       "         30.0: 3,\n",
       "         34.0: 1,\n",
       "         36.0: 70,\n",
       "         37.0: 1,\n",
       "         42.0: 1,\n",
       "         48.0: 3})"
      ]
     },
     "execution_count": 71,
     "metadata": {
      "tags": []
     },
     "output_type": "execute_result"
    }
   ],
   "source": [
    "#df.scans.unique()\n",
    "from collections import Counter\n",
    "Counter(b_scans)"
   ]
  },
  {
   "cell_type": "code",
   "execution_count": 83,
   "metadata": {
    "colab": {
     "base_uri": "https://localhost:8080/",
     "height": 394
    },
    "colab_type": "code",
    "executionInfo": {
     "elapsed": 645,
     "status": "ok",
     "timestamp": 1557451503695,
     "user": {
      "displayName": "Gabriel Raya Rodríguez",
      "photoUrl": "",
      "userId": "00635319072541362903"
     },
     "user_tz": -120
    },
    "id": "QFumvUuJV9nU",
    "outputId": "613132c7-4603-472c-aec2-8dd155998a8f"
   },
   "outputs": [
    {
     "data": {
      "text/plain": [
       "<matplotlib.axes._subplots.AxesSubplot at 0x7f738c23b518>"
      ]
     },
     "execution_count": 83,
     "metadata": {
      "tags": []
     },
     "output_type": "execute_result"
    },
    {
     "data": {
      "image/png": "[encoded data removed]",
      "text/plain": [
       "<Figure size 576x432 with 1 Axes>"
      ]
     },
     "metadata": {
      "tags": []
     },
     "output_type": "display_data"
    }
   ],
   "source": [
    "df.h.hist(alpha=0.4)"
   ]
  },
  {
   "cell_type": "code",
   "execution_count": 0,
   "metadata": {
    "colab": {},
    "colab_type": "code",
    "id": "-e7TEjWEftIg"
   },
   "outputs": [],
   "source": [
    "def show_image(img, lbl):\n",
    "    matplotlib.rcParams['figure.figsize'] = (10, 6)\n",
    "    s, h, w = img.shape \n",
    "    for i in range(s):\n",
    "        plt.subplot(1,2,1)\n",
    "        plt.imshow(img[i])\n",
    "        plt.title('RGB image')\n",
    "\n",
    "        plt.subplot(1,2,2)\n",
    "        plt.imshow(lbl[i])\n",
    "        plt.title('Manual annotation')\n",
    "        plt.show()"
   ]
  },
  {
   "cell_type": "code",
   "execution_count": 0,
   "metadata": {
    "colab": {
     "base_uri": "https://localhost:8080/",
     "height": 4813,
     "output_embedded_package_id": "1fi_asetsnPDGF-Z3PKVH-ftjNO2ZHKY4"
    },
    "colab_type": "code",
    "executionInfo": {
     "elapsed": 10735,
     "status": "ok",
     "timestamp": 1557406480174,
     "user": {
      "displayName": "Gabriel Raya Rodríguez",
      "photoUrl": "",
      "userId": "00635319072541362903"
     },
     "user_tz": -120
    },
    "id": "te1eBKGIftIq",
    "outputId": "8c41622b-7f40-4662-cd55-28e2e45b45ae"
   },
   "outputs": [
    {
     "data": {
      "text/plain": [
       "Output hidden; open in https://colab.research.google.com to view."
      ]
     },
     "metadata": {},
     "output_type": "display_data"
    }
   ],
   "source": [
    "i = 119# Try some values here    \n",
    "show_image(X[i], Y[i])"
   ]
  },
  {
   "cell_type": "code",
   "execution_count": 0,
   "metadata": {
    "colab": {},
    "colab_type": "code",
    "id": "0EbHBI1PftI1"
   },
   "outputs": [],
   "source": [
    "class DataSet:\n",
    "    \n",
    "    def __init__(self, imgs, lbls=None):\n",
    "        self.imgs = imgs\n",
    "        self.lbls = lbls\n",
    "    \n",
    "    def get_lenght(self):\n",
    "        return len(self.imgs)\n",
    "    \n",
    "    def show_image(self, i):\n",
    "        if self.lbls != None:\n",
    "            f, axes   = plt.subplots(1, 2)\n",
    "            img_slice = self.imgs[i]\n",
    "            lbls_slice= self.lbls[i]\n",
    "            s = img_slice.shape[0]\n",
    "            for ax, im, t in zip(axes, \n",
    "                                 (img_slice[i], lbls_slice[i]), \n",
    "                                 ('RGB image', \n",
    "                                  'Manual annotation; Range: [{}, {}]'.format(self.lbls[i].min(), \n",
    "                                                                              self.lbls[i].max()))):\n",
    "                ax.imshow(im)\n",
    "                ax.set_title(t)\n",
    "        else:\n",
    "            plt.imshow(self.imgs[i])\n",
    "            plt.title('RGB image')\n",
    "        plt.show()\n",
    "        \n",
    "        \n"
   ]
  },
  {
   "cell_type": "markdown",
   "metadata": {
    "colab_type": "text",
    "id": "32zBIH01ftJO"
   },
   "source": [
    "Images in the training set are currently in the same order as read from disk. To avoid any bias possibly introduced by this order, it is always good to shuffle the training dataset. Note that images and annotations must be shuffled in the same way!"
   ]
  },
  {
   "cell_type": "code",
   "execution_count": 0,
   "metadata": {
    "colab": {},
    "colab_type": "code",
    "id": "ThXiQ_5cftJR"
   },
   "outputs": [],
   "source": [
    "import random\n",
    "# shuffle order of training images and manual annotations\n",
    "indexes = list(range(len(X)))\n",
    "random.shuffle(indexes)\n",
    "indexes\n",
    "\n",
    "train_imgs = list(np.asarray(X)[indexes])\n",
    "train_lbls = list(np.asarray(Y)[indexes])"
   ]
  },
  {
   "cell_type": "code",
   "execution_count": 0,
   "metadata": {
    "colab": {
     "base_uri": "https://localhost:8080/",
     "height": 34
    },
    "colab_type": "code",
    "executionInfo": {
     "elapsed": 400,
     "status": "ok",
     "timestamp": 1557406500018,
     "user": {
      "displayName": "Gabriel Raya Rodríguez",
      "photoUrl": "",
      "userId": "00635319072541362903"
     },
     "user_tz": -120
    },
    "id": "TX07XJxeftJc",
    "outputId": "cc5bb380-0597-4738-f293-ffef6a51e46b"
   },
   "outputs": [
    {
     "data": {
      "text/plain": [
       "(18, 496, 508)"
      ]
     },
     "execution_count": 26,
     "metadata": {
      "tags": []
     },
     "output_type": "execute_result"
    }
   ],
   "source": [
    "train_imgs[0].shape"
   ]
  },
  {
   "cell_type": "code",
   "execution_count": 0,
   "metadata": {
    "colab": {
     "base_uri": "https://localhost:8080/",
     "height": 34
    },
    "colab_type": "code",
    "executionInfo": {
     "elapsed": 391,
     "status": "ok",
     "timestamp": 1557406501582,
     "user": {
      "displayName": "Gabriel Raya Rodríguez",
      "photoUrl": "",
      "userId": "00635319072541362903"
     },
     "user_tz": -120
    },
    "id": "VWETgH_FftJn",
    "outputId": "b2659ac8-091c-4810-dc9f-e5cf9db397c1"
   },
   "outputs": [
    {
     "data": {
      "text/plain": [
       "122"
      ]
     },
     "execution_count": 27,
     "metadata": {
      "tags": []
     },
     "output_type": "execute_result"
    }
   ],
   "source": [
    "len(train_imgs)"
   ]
  },
  {
   "cell_type": "markdown",
   "metadata": {
    "colab_type": "text",
    "id": "mf1YvELLftJw"
   },
   "source": [
    "### Split into training and validation set\n",
    "Now we can define a training and a validation set by using the Dataset class that we have defined. In order to define a validation set, you have to specify a coefficient (from 0 to 1) to indicate the percentage of training images that you want to use for validation (we have seen that typical splits are 70/30, 80/20 etc."
   ]
  },
  {
   "cell_type": "code",
   "execution_count": 0,
   "metadata": {
    "colab": {},
    "colab_type": "code",
    "id": "AefVFy-oftJ0"
   },
   "outputs": [],
   "source": [
    "validation_percent = 0.2 # coefficient to define validation dataset (value between 0 and 1)"
   ]
  },
  {
   "cell_type": "code",
   "execution_count": 0,
   "metadata": {
    "colab": {
     "base_uri": "https://localhost:8080/",
     "height": 51
    },
    "colab_type": "code",
    "executionInfo": {
     "elapsed": 951,
     "status": "ok",
     "timestamp": 1557406504991,
     "user": {
      "displayName": "Gabriel Raya Rodríguez",
      "photoUrl": "",
      "userId": "00635319072541362903"
     },
     "user_tz": -120
    },
    "id": "R480GG4NftKB",
    "outputId": "04e83443-8819-484b-b6ca-19068977a6b1"
   },
   "outputs": [
    {
     "name": "stdout",
     "output_type": "stream",
     "text": [
      "98 training images\n",
      "24 validation images\n"
     ]
    }
   ],
   "source": [
    "n_validation_imgs = int(validation_percent * len(train_imgs))\n",
    "\n",
    "# use the first images as validation\n",
    "validation_dataset = DataSet(train_imgs[:n_validation_imgs], train_lbls[:n_validation_imgs])\n",
    "\n",
    "# the rest as training\n",
    "training_dataset = DataSet(train_imgs[n_validation_imgs:], train_lbls[n_validation_imgs:])\n",
    "\n",
    "# test dataset\n",
    "#test_dataset = DataSet(test_imgs)\n",
    "\n",
    "n_tra_imgs = training_dataset.get_lenght()\n",
    "n_val_imgs = validation_dataset.get_lenght()\n",
    "#n_tes_imgs = test_dataset.get_lenght()\n",
    "\n",
    "print('{} training images'.format(n_tra_imgs))\n",
    "print('{} validation images'.format(n_val_imgs))\n",
    "#print('{} test images'.format(n_tes_imgs))"
   ]
  },
  {
   "cell_type": "markdown",
   "metadata": {
    "colab_type": "text",
    "id": "ttMCtbljftKR"
   },
   "source": [
    "### Visualize datasets\n",
    "Let's visualize images in the training, the validation and the test set."
   ]
  },
  {
   "cell_type": "code",
   "execution_count": 0,
   "metadata": {
    "colab": {
     "base_uri": "https://localhost:8080/",
     "height": 10637,
     "output_embedded_package_id": "11gUM5Q46j4EhJJD8Tep-BPn2WcHo14V5"
    },
    "colab_type": "code",
    "executionInfo": {
     "elapsed": 16639,
     "status": "ok",
     "timestamp": 1557406522859,
     "user": {
      "displayName": "Gabriel Raya Rodríguez",
      "photoUrl": "",
      "userId": "00635319072541362903"
     },
     "user_tz": -120
    },
    "id": "Z0d9Z0lZftKT",
    "outputId": "60b91a63-a41a-47c5-8062-5083933a321b"
   },
   "outputs": [
    {
     "data": {
      "text/plain": [
       "Output hidden; open in https://colab.research.google.com to view."
      ]
     },
     "metadata": {},
     "output_type": "display_data"
    }
   ],
   "source": [
    "# training set\n",
    "#for i in range(n_tra_imgs):\n",
    "#    training_dataset.show_image(i)\n",
    "    \n",
    "i = 19# Try some values here    \n",
    "show_image(X[i], Y[i])"
   ]
  },
  {
   "cell_type": "code",
   "execution_count": 0,
   "metadata": {
    "colab": {},
    "colab_type": "code",
    "id": "dVYxC-XRftKd"
   },
   "outputs": [],
   "source": []
  }
 ],
 "metadata": {
  "accelerator": "GPU",
  "colab": {
   "collapsed_sections": [
    "d4cVMWmvftDV",
    "xVS6pB5VftDd"
   ],
   "name": "1_data_analysis.ipynb",
   "provenance": [],
   "version": "0.3.2"
  },
  "kernelspec": {
   "display_name": "Python 3",
   "language": "python",
   "name": "python3"
  },
  "language_info": {
   "codemirror_mode": {
    "name": "ipython",
    "version": 3
   },
   "file_extension": ".py",
   "mimetype": "text/x-python",
   "name": "python",
   "nbconvert_exporter": "python",
   "pygments_lexer": "ipython3",
   "version": "3.6.8"
  }
 },
 "nbformat": 4,
 "nbformat_minor": 1
}
